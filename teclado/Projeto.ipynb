{
 "cells": [
  {
   "cell_type": "markdown",
   "metadata": {},
   "source": [
    "## Primeiro começamos por importar as bibliotecas necessárias para gerar os gráficos."
   ]
  },
  {
   "cell_type": "code",
   "execution_count": null,
   "metadata": {},
   "outputs": [],
   "source": [
    "import matplotlib.pyplot as plt\n",
    "import random\n",
    "import json\n",
    "import math\n",
    "from PIL import Image, ImageDraw, ImageFont\n",
    "\n",
    "## Caso sua isntalação do Python não consiga importar as bibliotécas, use o PIP para fazê-lo. A bibliotéca PIL é deprecada, utilize a Pillow na instalação."
   ]
  },
  {
   "cell_type": "markdown",
   "metadata": {},
   "source": [
    "## Definindo o teclado\n",
    "\n",
    "Comece criando um dict para guardar as coordenadas de cada tecla. A órdem que definimos para nosso projeto foi de cima para baixo, esquerda para direita. Isso quer dizer que num teclado de layout QWERTY, a letra \"Q\" corresponde ao índice 0, \"A\" é 1, \"Z\" é 2, \"W\" é 3, e assim sucessivamente. A linha central e inferior do teclado, serão descoladas em relação a linha superior, caso queiramos um teclado ortolinear, devemos inicar o Offset em 0."
   ]
  },
  {
   "cell_type": "code",
   "execution_count": null,
   "metadata": {},
   "outputs": [],
   "source": [
    "KEY_WIDTH = 94\n",
    "MIDDLE_OFFSET = 24\n",
    "BOTTOM_OFFSET = 71\n",
    "offsets = [0, MIDDLE_OFFSET, BOTTOM_OFFSET]\n",
    "\n",
    "coords = {}\n",
    "for i in range(30):\n",
    "    row = i%3\n",
    "    column = math.floor(i/3)\n",
    "    x = column*KEY_WIDTH + offsets[row]\n",
    "    y = row*KEY_WIDTH\n",
    "    coords[i] = (x, y)\n",
    "coords"
   ]
  },
  {
   "cell_type": "markdown",
   "metadata": {},
   "source": [
    "## Teclas por dedo.\n",
    "\n",
    "Defina o dedo responsável por cada tecla. Isso pode ser alterarado dependendo de como quisermos simular a digitação. Por exemplo assumindo que devemos digitar com os 10 dedos, o dedo médio, é responsável pelas teclas \"W\", \"S\", \"X\". Portanto os índices 0, 1 e 2 serão agrupados num array bidimensional. Nós definimos as teclas de cada dedo como elementos no array bidimensional."
   ]
  },
  {
   "cell_type": "code",
   "execution_count": null,
   "metadata": {},
   "outputs": [],
   "source": [
    "keys_per_finger = [[0,1,2], [3,4,5], [6,7,8], [9,10,11,12,13,14], [15,16,17,18,19,20], [21,22,23], [24,25,26], [27,28,29]]\n",
    "# As teclas definidas para digitação com dois dedos seria a seguinte:\n",
    "# [[0,1,2,3,4,5,6,7,8,9,10,11,12,13,14], [15,16,17,18,19,20,21,22,23,24,25,26,27,28,29]]\n",
    "# As teclas definidas para digitação com um dedo seria a seguinte:\n",
    "# [[0,1,2,3,4,5,6,7,8,9,10,11,12,13,14,15,16,17,18,19,20,21,22,23,24,25,26,27,28,29]]"
   ]
  },
  {
   "cell_type": "markdown",
   "metadata": {},
   "source": [
    "## Teclas centrais\n",
    "\n",
    "Ao digitar, cada dedo que é utilizado deve ter uma tecla central que é sua posição 0 a qual eles começam e devem retornar quando não estão digitando. No teclado QWERTY por exemplo as teclas centrais de início, são: \"A\"S\"D\"F\"J\"K\"L\"Ç\". No teclado americano que é que nós utilizamos nesse trabalho por ser mais comun, tem no lugar do \"Ç\" o \";\". Isso corresponde aos índices 1, 4, 7, 10, 19, 22, 25, 28. Use um dict para associar cada tecla a seu índice de posição central."
   ]
  },
  {
   "cell_type": "code",
   "execution_count": null,
   "metadata": {},
   "outputs": [],
   "source": [
    "home_key_pos = [1, 4, 7, 10, 19, 22, 25, 28]\n",
    "# A posição central para digitação de dois dedos é a seguinte:\n",
    "# home_key_pos = [7, 22]\n",
    "# A posição central para digital com apenas um dedo é a seguinte:\n",
    "# home_key_pos = [16]\n",
    "\n",
    "home_keys = {}\n",
    "for i, keys in enumerate(keys_per_finger):\n",
    "    for key in keys:\n",
    "        home_keys[key] = home_key_pos[i]\n",
    "home_keys"
   ]
  },
  {
   "cell_type": "markdown",
   "metadata": {},
   "source": [
    "## Objeto teclado\n",
    "\n",
    "Cada teclado será definido por um dict de quais caracteres cada tecla representa. Essa função converterá um genoma (Uma string que representa um teclado) em um dict. O genoma deve estar em ordem, Então para o QWERTY, o genoma será \"qazwsxedcrfvtgbyhnujmik,ol.p;/\". Também levará em consideração as teclas de câmbio como \"<\", \">\", \":\", and \"?\", adicionando-as ao dict com a tecla correspondente."
   ]
  },
  {
   "cell_type": "code",
   "execution_count": null,
   "metadata": {},
   "outputs": [],
   "source": [
    "def genome_to_keyboard(genome):\n",
    "    keyboard = {}\n",
    "    for i, char in enumerate(genome):\n",
    "        keyboard[char] = i\n",
    "        if char == ',':\n",
    "            keyboard['<'] = i\n",
    "        elif char == '.':\n",
    "            keyboard['>'] = i\n",
    "        elif char == ';':\n",
    "            keyboard[':'] = i\n",
    "        elif char == '/':\n",
    "            keyboard['?'] = i\n",
    "    return keyboard"
   ]
  },
  {
   "cell_type": "markdown",
   "metadata": {},
   "source": [
    "## Dados    \n",
    "\n",
    "### Dataser arXiv.org\n",
    "\n",
    "O conjunto de dados de metadados arXiv.org pode ser baixado de [Kaggle](https://www.kaggle.com/datasets/Cornell-University/arxiv). Baixe o arquivo json e salve-o no mesmo diretório deste notebook. O código a seguir criará uma coleção de resumos. Não incluirá resumos que contenham caracteres ilegais. Isso reduzirá quaisquer dados indesejados, como notação científica e equações matemáticas. No vídeo original, apenas um pequeno subconjunto do conjunto de dados de 587 resumos. O conjunto de dados é muito grande e calcular a distância em todo o conjunto de dados levará muito tempo.\n"
   ]
  },
  {
   "cell_type": "code",
   "execution_count": null,
   "metadata": {},
   "outputs": [],
   "source": [
    "ARXIV_JSON = '../arxiv-metadata-oai-snapshot.json'\n",
    "DATA_LIMIT = 1000\n",
    "\n",
    "full_text = ''\n",
    "legal_chars = 'qazwsxedcrfvtgbyhnujmik,ol.p;:? '\n",
    "\n",
    "count = 0\n",
    "with open(ARXIV_JSON) as file:\n",
    "    for line in file:\n",
    "        if count > DATA_LIMIT:\n",
    "            break\n",
    "        abstract = json.loads(line)['abstract'].replace('\\n', ' ').strip().lower()\n",
    "        if any(char not in legal_chars for char in abstract):\n",
    "            continue\n",
    "        full_text += ' ' + abstract\n",
    "        count += 1"
   ]
  },
  {
   "cell_type": "markdown",
   "metadata": {},
   "source": [
    "## Calculando a distância\n",
    "\n",
    "### Calculando a distância entre duas teclas\n",
    "\n",
    "Dada duas teclas, a função abaixo irá calcular a ditância relativa entre elas."
   ]
  },
  {
   "cell_type": "code",
   "execution_count": null,
   "metadata": {},
   "outputs": [],
   "source": [
    "def distance(first, second):\n",
    "    return math.hypot(second[0] - first[0], second[1] - first[1])"
   ]
  },
  {
   "cell_type": "markdown",
   "metadata": {},
   "source": [
    "### Calculando a distância de todos os pares de letras\n",
    "\n",
    "Calcule a distância para todos os pares de letras válidos e salve-a como um dicionário de dicionários. A chave no dicionário corresponde à chave inicial. A chave do dicionário interno é a chave final e o valor do dicionário interno é a distância desse par de chaves. Por exemplo, as distâncias da chave 0 às chaves 0, 1 e 2 serão representadas como:\n",
    "```\n",
    "{\n",
    "  0: {\n",
    "    0: 0.0, \n",
    "    1: 1.0320793902668004, \n",
    "    2: 2.1378744155702085\n",
    "  }\n",
    "}\n",
    "```"
   ]
  },
  {
   "cell_type": "code",
   "execution_count": null,
   "metadata": {},
   "outputs": [],
   "source": [
    "distances = {i: {} for i in range(30)}\n",
    "for keys in keys_per_finger:\n",
    "    for i in keys:\n",
    "        for j in keys:\n",
    "            distances[i][j] = distance(coords[i], coords[j]) / KEY_WIDTH\n",
    "distances"
   ]
  },
  {
   "cell_type": "markdown",
   "metadata": {},
   "source": [
    "## Calculando a distância total de uma determinada string\n",
    "\n",
    "Essa função irá calcular a distância total de qualquer texto dado qualquer teclado."
   ]
  },
  {
   "cell_type": "code",
   "execution_count": null,
   "metadata": {},
   "outputs": [],
   "source": [
    "def total_distance(input_string, keyboard):\n",
    "    input_string = input_string.lower()\n",
    "    input_string = input_string.replace(' ', '')\n",
    "    first_char = input_string[0]\n",
    "    first_pos = keyboard[first_char]\n",
    "    first_home_key = home_keys[first_pos]\n",
    "    total_dist = distances[first_home_key][first_pos]\n",
    "    for i in range(0, len(input_string)-1):\n",
    "        cur_char = input_string[i]\n",
    "        next_char = input_string[i+1]\n",
    "        cur_pos = keyboard[cur_char]\n",
    "        next_pos = keyboard[next_char]\n",
    "        if cur_pos in distances and next_pos in distances[cur_pos]:\n",
    "            total_dist += distances[cur_pos][next_pos]\n",
    "        else:\n",
    "            home_key = home_keys[next_pos]\n",
    "            total_dist += distances[home_key][next_pos]\n",
    "    return total_dist"
   ]
  },
  {
   "cell_type": "markdown",
   "metadata": {},
   "source": [
    "## Testando a distância.\n",
    "\n",
    "Calculando a distância em um frase de teste."
   ]
  },
  {
   "cell_type": "code",
   "execution_count": null,
   "metadata": {},
   "outputs": [],
   "source": [
    "test_string = 'O menino chutou a bola na janlea e quebrou o vidro.'\n",
    "qwerty = genome_to_keyboard(list('qazwsxedcrfvtgbyhnujmik,ol.p;/'))\n",
    "total_distance(test_string, qwerty)"
   ]
  },
  {
   "cell_type": "markdown",
   "metadata": {},
   "source": [
    "### Calculando a distância total do dataset."
   ]
  },
  {
   "cell_type": "code",
   "execution_count": null,
   "metadata": {},
   "outputs": [],
   "source": [
    "total_distance(full_text, qwerty)"
   ]
  },
  {
   "cell_type": "markdown",
   "metadata": {},
   "source": [
    "## Altoritmo genético.\n",
    "\n",
    "### Inicialize a população.\n",
    "\n",
    "A função abaixo irá inicializar a população para a primeira geração com teclados randomicos dado um tamanho de população."
   ]
  },
  {
   "cell_type": "code",
   "execution_count": null,
   "metadata": {},
   "outputs": [],
   "source": [
    "def init_population(pop_size):\n",
    "    keyboard_chars = list('qazwsxedcrfvtgbyhnujmik,ol.p;/')\n",
    "    population = []\n",
    "    for i in range(pop_size):\n",
    "        rand_gnome = keyboard_chars[:]\n",
    "        random.shuffle(rand_gnome)\n",
    "        population.append(rand_gnome)\n",
    "    return population"
   ]
  },
  {
   "cell_type": "markdown",
   "metadata": {},
   "source": [
    "## Combiando dois teclados.\n",
    "\n",
    "Esta função define a lógica de \"cruzamento\" de dois teclados para criar um novo teclado. A função selecionará um ponto aleatório para dividir os teclados. Ele começará a preencher o teclado filho à direita do ponto de divisão com um número aleatório de teclas do primeiro teclado. Em seguida, ele preencherá as teclas restantes com as teclas do teclado 2. Há também uma chance aleatória de mutação em que duas teclas do teclado filho trocarão de lugar."
   ]
  },
  {
   "cell_type": "code",
   "execution_count": null,
   "metadata": {},
   "outputs": [],
   "source": [
    "def mate(board1, board2, mutation_rate):\n",
    "    keyboard_size = len(board1)\n",
    "    idx = random.randint(0, keyboard_size-1)\n",
    "    length = random.randint(0,keyboard_size-1)\n",
    "    child = ['_' for i in range(keyboard_size)]\n",
    "    for i in range(length):\n",
    "        if idx > keyboard_size-1:\n",
    "            idx = 0\n",
    "        child[idx] = board1[idx]\n",
    "        idx += 1\n",
    "    child_idx = idx\n",
    "    while '_' in child:\n",
    "        if idx > keyboard_size-1:\n",
    "            idx = 0\n",
    "        if child_idx > keyboard_size-1:\n",
    "            child_idx = 0\n",
    "        char = board2[idx]\n",
    "        if char in child:\n",
    "            idx += 1\n",
    "            continue\n",
    "        child[child_idx] = board2[idx]\n",
    "        child_idx += 1\n",
    "        idx += 1\n",
    "        \n",
    "    prob = random.random()\n",
    "    if prob < mutation_rate:\n",
    "        point1 = random.randint(0, 29)\n",
    "        point2 = random.randint(0, 29)\n",
    "        allele1 = child[point1]\n",
    "        allele2 = child[point2]\n",
    "        child[point1] = allele2\n",
    "        child[point2] = allele1\n",
    "        \n",
    "    return child"
   ]
  },
  {
   "cell_type": "markdown",
   "metadata": {},
   "source": [
    "## Avalianado a população.\n",
    "\n",
    "Essa função avaliará uma determinada população calculando a distância total para cada teclado na população. Ele retorna as avaliações como um dicionário. Ele também retorna os índices classificados na ordem da distância total do teclado naquele índice."
   ]
  },
  {
   "cell_type": "code",
   "execution_count": null,
   "metadata": {},
   "outputs": [],
   "source": [
    "def get_evals(population):\n",
    "    evals = {}\n",
    "    for i, genome in enumerate(population):\n",
    "        keyboard = genome_to_keyboard(genome)\n",
    "        dist = total_distance(full_text, keyboard)\n",
    "        evals[i] = dist\n",
    "    sorted_evals = [k for k, v in sorted(evals.items(), key=lambda item: item[1])]\n",
    "    return evals, sorted_evals"
   ]
  },
  {
   "cell_type": "markdown",
   "metadata": {},
   "source": [
    "## Criando a próxima geração.\n",
    "\n",
    "Essa função criará a próxima geração utilizando a população atual. Ela copiará diretamente os top 10% teclados da população anterior para a próxima e utilizará os top 50% para criar o resto da próxima geração."
   ]
  },
  {
   "cell_type": "code",
   "execution_count": null,
   "metadata": {},
   "outputs": [],
   "source": [
    "def new_generation(population, sorted_evals, p_size, mutation_rate):\n",
    "    new_gen = []\n",
    "    \n",
    "    sorted_population = []\n",
    "    for i in sorted_evals:\n",
    "        sorted_population.append(population[i])\n",
    "        \n",
    "    for i in range(int(p_size*0.1)):\n",
    "        new_gen.append(sorted_population[i])\n",
    "\n",
    "    for _ in range(int(p_size*0.9)):\n",
    "        p1 = random.choice(sorted_population[:int(p_size*0.5)])\n",
    "        p2 = random.choice(sorted_population[:int(p_size*0.5)])\n",
    "        child = mate(p1, p2, mutation_rate)\n",
    "        new_gen.append(child)\n",
    "    \n",
    "    return new_gen"
   ]
  },
  {
   "cell_type": "markdown",
   "metadata": {},
   "source": [
    "## Executando o algoritmo.\n",
    "\n",
    "O código a seguir executará o algoritmo genético. Ajuste as constantes `P_SIZE` para alterar o tamanho da população, `GENERATIONS` para alterar o número total de gerações que o algoritmo executará e `MUTATION_RATE` para alterar a frequência com que as mutações ocorrem durante o acasalamento. Os dados de treinamento serão armazenados no dicionário `learning` e salvos em um arquivo json assim que o algoritmo for concluído. Isso conterá informações para cada geração. Ele conterá o total de todos os teclados da população, o melhor teclado da população, a menor distância do melhor teclado e a distância média de todos os teclados."
   ]
  },
  {
   "cell_type": "code",
   "execution_count": null,
   "metadata": {},
   "outputs": [],
   "source": [
    "P_SIZE = 100\n",
    "GENERATIONS = 300\n",
    "MUTATION_RATE = .1\n",
    "\n",
    "learning = {\n",
    "    'generations': {}\n",
    "}\n",
    "\n",
    "population = init_population(P_SIZE)\n",
    "\n",
    "for i in range(GENERATIONS):    \n",
    "    evals, sorted_evals = get_evals(population)\n",
    "    sum_evals = 0\n",
    "    for key in evals:\n",
    "        sum_evals += evals[key]\n",
    "    avg_evals = sum_evals/P_SIZE\n",
    "    learning['generations'][i] = {\n",
    "        'population': population,\n",
    "        'best': population[sorted_evals[0]],\n",
    "        'min': evals[sorted_evals[0]],\n",
    "        'avg': avg_evals\n",
    "    }\n",
    "    print('GEN: {}, AVG: {}, MIN: {}, BEST: {}'.format(i+1, avg_evals, evals[sorted_evals[0]], population[sorted_evals[0]]))\n",
    "    \n",
    "    population = new_generation(population, sorted_evals, P_SIZE, MUTATION_RATE)\n",
    "\n",
    "LEARNING_JSON = 'learning.json'\n",
    "with open(LEARNING_JSON, 'w') as fp:\n",
    "    json.dump(learning, fp)"
   ]
  },
  {
   "cell_type": "markdown",
   "metadata": {},
   "source": [
    "## Visualizando o trainamento.\n",
    "\n",
    "O código a baixo utilizará o arquivo json com o treinamento e fará a plotagem dos dados.\n",
    "Um gráfico para a média de distância das gerações e outro para a menor distância por geração."
   ]
  },
  {
   "cell_type": "code",
   "execution_count": null,
   "metadata": {},
   "outputs": [],
   "source": [
    "## A linha abaixo serve para visualizar o gráfico das distâncias sem precisar rodar o notebook por completo.\n",
    "## LEARNING_JSON = 'treino1.json'\n",
    "\n",
    "with open(LEARNING_JSON) as fp:\n",
    "    learning = json.load(fp)\n",
    "    \n",
    "last_dist = 1000000000\n",
    "min_dists = []\n",
    "avg_dists = []\n",
    "generations = len(learning['generations'])\n",
    "\n",
    "for i in range(0, generations):\n",
    "    min_dist = learning['generations'][str(i)]['min']\n",
    "    avg_dist = learning['generations'][str(i)]['avg']\n",
    "    min_dists.append(min_dist)\n",
    "    avg_dists.append(avg_dist)\n",
    "\n",
    "plt.plot(min_dists, label='Lowest Distance')\n",
    "plt.xlabel('Generations')\n",
    "plt.ylabel('Distance')\n",
    "plt.legend()\n",
    "plt.show()\n",
    "\n",
    "plt.plot(avg_dists, label='Average Distance', color='orange')\n",
    "plt.xlabel('Generations')\n",
    "plt.ylabel('Distance')\n",
    "plt.legend()\n",
    "plt.show()"
   ]
  },
  {
   "cell_type": "markdown",
   "metadata": {},
   "source": [
    "## Visualizando os layouts\n",
    "\n",
    "O código abaixo cria uma imagem do melhor teclado ao final do treinamento."
   ]
  },
  {
   "cell_type": "code",
   "execution_count": null,
   "metadata": {},
   "outputs": [],
   "source": [
    "# O código comentado abaixo serve para visualizar o melhor teclado sem precisar rodar o notebook por completo\n",
    "# LEARNING_JSON = 'treino1.json'\n",
    "# GENERATIONS = 300\n",
    "\n",
    "# with open(LEARNING_JSON) as fp:\n",
    "#     learning = json.load(fp)\n",
    "\n",
    "kb = learning['generations'][str(GENERATIONS-1)]['best'] # best keyboard found\n",
    "\n",
    "with Image.open(\"template.jpg\").convert(\"RGBA\") as base:\n",
    "\n",
    "    # make a blank image for the text, initialized to transparent text color\n",
    "    txt = Image.new(\"RGBA\", base.size, (255, 255, 255, 0))\n",
    "\n",
    "    # get a font\n",
    "    fnt = ImageFont.truetype(\"SFNSMono.ttf\", 40)\n",
    "    # get a drawing context\n",
    "    d = ImageDraw.Draw(txt)\n",
    "    \n",
    "    x_offsets = [110, 135, 175]\n",
    "    for i in range(30):\n",
    "        row = i%3\n",
    "        column = math.floor(i/3)\n",
    "        x = column*60 + x_offsets[row]\n",
    "        y = row*65 + 85\n",
    "        char_coords = (x, y)\n",
    "        d.text(char_coords, kb[i], font=fnt, fill=(0, 0, 0, 255))\n",
    "\n",
    "    out = Image.alpha_composite(base, txt)\n",
    "\n",
    "    display(out)"
   ]
  }
 ],
 "metadata": {
  "kernelspec": {
   "display_name": "Python 3.10.8 64-bit",
   "language": "python",
   "name": "python3"
  },
  "language_info": {
   "codemirror_mode": {
    "name": "ipython",
    "version": 3
   },
   "file_extension": ".py",
   "mimetype": "text/x-python",
   "name": "python",
   "nbconvert_exporter": "python",
   "pygments_lexer": "ipython3",
   "version": "3.10.8"
  },
  "orig_nbformat": 4,
  "vscode": {
   "interpreter": {
    "hash": "73d8e63117ddc2afe27aacd07bd3757f3e79b7ed3bc03af4250361fe8bb972f9"
   }
  }
 },
 "nbformat": 4,
 "nbformat_minor": 2
}
