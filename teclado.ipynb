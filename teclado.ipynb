{
 "cells": [
  {
   "cell_type": "markdown",
   "metadata": {},
   "source": [
    "## Primeiro começamos por importar as bibliotecas necessárias para gerar os gráficos."
   ]
  },
  {
   "cell_type": "code",
   "execution_count": 2,
   "metadata": {},
   "outputs": [],
   "source": [
    "import matplotlib.pyplot as plt\n",
    "import random\n",
    "import json\n",
    "import math\n",
    "from PIL import Image, ImageDraw, ImageFont"
   ]
  },
  {
   "cell_type": "markdown",
   "metadata": {},
   "source": [
    "###### Caso sua isntalação do Python não consiga importar as bibliotécas, use o PIP para fazê-lo. A bibliotéca PIL é deprecada, utilize a Pillow na instalação."
   ]
  },
  {
   "cell_type": "markdown",
   "metadata": {},
   "source": [
    "## Definindo o teclado"
   ]
  },
  {
   "cell_type": "markdown",
   "metadata": {},
   "source": [
    "### Comece criando um dict para guardar as coordenadas de cada tecla. A órdem que definimos para nosso projeto foi de cima para baixo, esquerda para direita. Isso quer dizer que num teclado de layout QWERTY, a letra \"Q\" corresponde ao índice 0, \"A\" é 1, \"Z\" é 2, \"W\" é 3, e assim sucessivamente. A linha central e inferior do teclado, serão descoladas em relação a linha superior, caso queiramos um teclado ortolinear, devemos inicar o Offset em 0."
   ]
  },
  {
   "cell_type": "code",
   "execution_count": null,
   "metadata": {},
   "outputs": [],
   "source": [
    "LARGURA_TECLA = 94\n",
    "OFFSET_CENTRAL = 24\n",
    "OFFSET_INFERIOR = 71\n",
    "offsets = [0, OFFSET_CENTRAL, OFFSET_INFERIOR]\n",
    "\n",
    "coords = {}\n",
    "for i in range(30):\n",
    "    row = i%3\n",
    "    column = math.floor(i/3)\n",
    "    x = column*LARGURA_TECLA + offsets[row]\n",
    "    y = row*LARGURA_TECLA\n",
    "    coords[i] = (x, y)\n",
    "coords"
   ]
  },
  {
   "cell_type": "markdown",
   "metadata": {},
   "source": [
    "## Teclas por dedo."
   ]
  },
  {
   "cell_type": "markdown",
   "metadata": {},
   "source": [
    "#### Defina o dedo responsável por cada tecla. Isso pode ser alterarado dependendo de como quisermos simular a digitação. Por exemplo assumindo que devemos digitar com os 10 dedos, o dedo médio, é responsável pelas teclas \"W\", \"S\", \"X\". Portanto os índices 0, 1 e 2 serão agrupados num array bidimensional. Nós definimos as teclas de cada dedo como elementos no array bidimensional."
   ]
  },
  {
   "cell_type": "code",
   "execution_count": null,
   "metadata": {},
   "outputs": [],
   "source": [
    "dedos_por_tecla = [[0,1,2], [3,4,5], [6,7,8], [9,10,11,12,13,14], [15,16,17,18,19,20], [21,22,23], [24,25,26], [27,28,29]]\n",
    "# As teclas definidas para digitação com dois dedos seria a seguinte:\n",
    "# [[0,1,2,3,4,5,6,7,8,9,10,11,12,13,14], [15,16,17,18,19,20,21,22,23,24,25,26,27,28,29]]\n",
    "# As teclas definidas para digitação com um dedo seria a seguinte:\n",
    "# [[0,1,2,3,4,5,6,7,8,9,10,11,12,13,14,15,16,17,18,19,20,21,22,23,24,25,26,27,28,29]]"
   ]
  },
  {
   "cell_type": "markdown",
   "metadata": {},
   "source": [
    "## Teclas centrais"
   ]
  },
  {
   "cell_type": "markdown",
   "metadata": {},
   "source": [
    "### Ao digitar, cada dedo que é utilizado deve ter uma tecla central que é sua posição 0 a qual eles começam e devem retornar quando não estão digitando. No teclado QWERTY por exemplo as teclas centrais de início, são: \"A\"S\"D\"F\"J\"K\"L\"Ç\". No teclado americano que é que nós utilizamos nesse trabalho por ser mais comun, tem no lugar do \"Ç\" o \";\". Isso corresponde aos índices 1, 4, 7, 10, 19, 22, 25, 28. Use um dict para associar cada tecla a seu índice de posição central."
   ]
  },
  {
   "cell_type": "code",
   "execution_count": null,
   "metadata": {},
   "outputs": [],
   "source": [
    "posicao_central = [1, 4, 7, 10, 19, 22, 25, 28]\n",
    "# A posição central para digitação de dois dedos é a seguinte:\n"
   ]
  }
 ],
 "metadata": {
  "kernelspec": {
   "display_name": "Python 3.10.8 64-bit",
   "language": "python",
   "name": "python3"
  },
  "language_info": {
   "codemirror_mode": {
    "name": "ipython",
    "version": 3
   },
   "file_extension": ".py",
   "mimetype": "text/x-python",
   "name": "python",
   "nbconvert_exporter": "python",
   "pygments_lexer": "ipython3",
   "version": "3.10.8"
  },
  "orig_nbformat": 4,
  "vscode": {
   "interpreter": {
    "hash": "73d8e63117ddc2afe27aacd07bd3757f3e79b7ed3bc03af4250361fe8bb972f9"
   }
  }
 },
 "nbformat": 4,
 "nbformat_minor": 2
}
